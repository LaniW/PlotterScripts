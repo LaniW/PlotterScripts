{
 "cells": [
  {
   "cell_type": "markdown",
   "metadata": {},
   "source": [
    "# Geoffrey Bradway's Python Generative Art Tutorial  \n",
    "with comments for our group's ECE471: Generative AI for Art and Arch Plotter Project."
   ]
  },
  {
   "cell_type": "code",
   "execution_count": 1,
   "metadata": {},
   "outputs": [],
   "source": [
    "# Imports\n",
    "\n",
    "import numpy as np\n",
    "from scipy.spatial import Voronoi, voronoi_plot_2d\n",
    "import matplotlib.pyplot as plt\n",
    "from matplotlib.collections import LineCollection\n",
    "from ipywidgets import widgets\n",
    "from ipywidgets import interact, interact_manual, interactive"
   ]
  },
  {
   "cell_type": "code",
   "execution_count": 2,
   "metadata": {},
   "outputs": [],
   "source": [
    "# Set up the canvas (For 11 x 14 paper)\n",
    "\n",
    "x_bounds = np.array([0, 13])\n",
    "y_bounds = np.array([0, 16])\n",
    "\n",
    "x_buffer, y_buffer = 1, 1\n",
    "\n",
    "x_plot = x_bounds + np.array([x_buffer, -x_buffer])\n",
    "y_plot = y_bounds + np.array([y_buffer, -y_buffer])"
   ]
  },
  {
   "cell_type": "code",
   "execution_count": null,
   "metadata": {},
   "outputs": [
    {
     "data": {
      "application/vnd.jupyter.widget-view+json": {
       "model_id": "54f42263910a4e5d90bc3435f3acfbc2",
       "version_major": 2,
       "version_minor": 0
      },
      "text/plain": [
       "interactive(children=(IntSlider(value=200, description='num_points', max=1000, min=10, step=25), FloatSlider(v…"
      ]
     },
     "metadata": {},
     "output_type": "display_data"
    }
   ],
   "source": [
    "# Putting the pattern on a random number of polygons\n",
    "\n",
    "def make_some_art(num_points=200, percent_to_fill = 0.5, n_fill_lines=5, min_scalar = 0.1,  debug=False, toggle_for_new=False):\n",
    "    \n",
    "    # Generates 200 random points \n",
    "    x = np.random.uniform(*x_bounds, size=num_points).reshape((num_points, 1))\n",
    "    y = np.random.uniform(*y_bounds, size=num_points).reshape((num_points, 1))\n",
    "    pts = np.hstack([x, y])\n",
    "    \n",
    "    # Feeds the Voronoi algorithm the random points to create a Voronoi polygon arrangement\n",
    "    vor = Voronoi(pts)\n",
    "    verts = vor.vertices\n",
    "    shapes_ind = vor.regions\n",
    "    \n",
    "    # Puts all of the created polygons into a list \n",
    "    shapes_ind = [s+s[0:1] for s in shapes_ind if len(s)>0 and -1 not in s]\n",
    "    shapes = [verts[s] for s in shapes_ind]\n",
    "    \n",
    "    # Randomly picks some polygons to put the pattern on\n",
    "    n_shapes_to_fill = int(percent_to_fill*len(shapes))\n",
    "    shapes_to_fill = np.random.choice(np.array(shapes, dtype=object), size=n_shapes_to_fill, replace=False) # change the shapes array content to objects\n",
    "    \n",
    "    fill = []\n",
    "    \n",
    "    # Fills those polygons with the pattern\n",
    "    for s in shapes_to_fill:\n",
    "        center = np.mean(s, axis=0)\n",
    "        for scaler in np.linspace(min_scalar, 1, num=n_fill_lines, endpoint=False):\n",
    "            scaled = scaler*(s - center) + center\n",
    "            fill.append(scaled)\n",
    "\n",
    "    # Plots the generated image\n",
    "    fig, ax = plt.subplots(figsize=(20,20))\n",
    "    ax.set_aspect('equal')\n",
    "    \n",
    "    if not debug:\n",
    "        plt.grid(False)\n",
    "        plt.axis('off')\n",
    "\n",
    "    \n",
    "    ax.set_xlim(*x_plot)\n",
    "    ax.set_ylim(*y_plot)\n",
    "    lc = LineCollection(shapes+fill)\n",
    "    ax.add_collection(lc)\n",
    "    \n",
    "    return fig, ax\n",
    "    \n",
    "    # Adds sliders to change the number of polygons, number filled, number of lines per polygon and how scaled these polygons are \n",
    "w = interactive(make_some_art,\n",
    "                num_points=(10,1000,25),\n",
    "                percent_to_fill=(0., 1., 0.05),\n",
    "                n_fill_lines=(1, 20, 1),\n",
    "                min_scalar=(0,1,0.01))\n",
    "display(w)"
   ]
  },
  {
   "cell_type": "code",
   "execution_count": 11,
   "metadata": {},
   "outputs": [],
   "source": [
    "# Resulting image\n",
    "\n",
    "fig, ax = w.result"
   ]
  },
  {
   "cell_type": "code",
   "execution_count": 12,
   "metadata": {},
   "outputs": [],
   "source": [
    "# Saves the image file as a .SVG\n",
    "\n",
    "fig.savefig('generated_Voronoi_pattern.svg', bbox_inches = 'tight', pad_inches = 0)"
   ]
  }
 ],
 "metadata": {
  "kernelspec": {
   "display_name": "venv",
   "language": "python",
   "name": "python3"
  },
  "language_info": {
   "codemirror_mode": {
    "name": "ipython",
    "version": 3
   },
   "file_extension": ".py",
   "mimetype": "text/x-python",
   "name": "python",
   "nbconvert_exporter": "python",
   "pygments_lexer": "ipython3",
   "version": "3.11.3"
  }
 },
 "nbformat": 4,
 "nbformat_minor": 2
}
